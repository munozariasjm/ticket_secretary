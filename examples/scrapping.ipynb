{
 "cells": [
  {
   "cell_type": "code",
   "execution_count": 1,
   "metadata": {},
   "outputs": [],
   "source": [
    "from google_flight_analysis.scrape import *"
   ]
  },
  {
   "cell_type": "code",
   "execution_count": 3,
   "metadata": {},
   "outputs": [
    {
     "name": "stderr",
     "output_type": "stream",
     "text": [
      "Scraping Objects:   0%|          | 0/1 [00:00<?, ?it/s]"
     ]
    },
    {
     "name": "stdout",
     "output_type": "stream",
     "text": [
      "TimeoutException, try again and check your internet connection!\n",
      "\n",
      "Also possible that no flights exist for your query :(\n",
      "TimeoutException, try again and check your internet connection!\n",
      "\n",
      "Also possible that no flights exist for your query :(\n"
     ]
    },
    {
     "name": "stderr",
     "output_type": "stream",
     "text": [
      "Scraping Objects:   0%|          | 0/1 [00:30<?, ?it/s]\n"
     ]
    },
    {
     "ename": "NoSuchWindowException",
     "evalue": "Message: no such window: target window already closed\nfrom unknown error: web view not found\n  (Session info: chrome=123.0.6312.107)\nStacktrace:\n0   chromedriver                        0x0000000102b70474 chromedriver + 4326516\n1   chromedriver                        0x0000000102b6893c chromedriver + 4294972\n2   chromedriver                        0x0000000102794088 chromedriver + 278664\n3   chromedriver                        0x000000010276f270 chromedriver + 127600\n4   chromedriver                        0x00000001027fb9ac chromedriver + 702892\n5   chromedriver                        0x000000010280ec0c chromedriver + 781324\n6   chromedriver                        0x00000001027cb4e4 chromedriver + 505060\n7   chromedriver                        0x00000001027cbf5c chromedriver + 507740\n8   chromedriver                        0x0000000102b33a10 chromedriver + 4078096\n9   chromedriver                        0x0000000102b387c8 chromedriver + 4097992\n10  chromedriver                        0x0000000102b1a5b4 chromedriver + 3974580\n11  chromedriver                        0x0000000102b390e0 chromedriver + 4100320\n12  chromedriver                        0x0000000102b0bba4 chromedriver + 3914660\n13  chromedriver                        0x0000000102b596e8 chromedriver + 4232936\n14  chromedriver                        0x0000000102b59864 chromedriver + 4233316\n15  chromedriver                        0x0000000102b685b0 chromedriver + 4294064\n16  libsystem_pthread.dylib             0x00000001935eef94 _pthread_start + 136\n17  libsystem_pthread.dylib             0x00000001935e9d34 thread_start + 8\n",
     "output_type": "error",
     "traceback": [
      "\u001b[0;31m---------------------------------------------------------------------------\u001b[0m",
      "\u001b[0;31mNoSuchWindowException\u001b[0m                     Traceback (most recent call last)",
      "Cell \u001b[0;32mIn[3], line 3\u001b[0m\n\u001b[1;32m      1\u001b[0m result \u001b[38;5;241m=\u001b[39m Scrape(\u001b[38;5;124m\"\u001b[39m\u001b[38;5;124mJFK\u001b[39m\u001b[38;5;124m\"\u001b[39m, \u001b[38;5;124m\"\u001b[39m\u001b[38;5;124m2023-09-20\u001b[39m\u001b[38;5;124m\"\u001b[39m, \u001b[38;5;124m\"\u001b[39m\u001b[38;5;124mIST\u001b[39m\u001b[38;5;124m\"\u001b[39m, \u001b[38;5;124m\"\u001b[39m\u001b[38;5;124m2023-09-25\u001b[39m\u001b[38;5;124m\"\u001b[39m, \u001b[38;5;124m\"\u001b[39m\u001b[38;5;124mCDG\u001b[39m\u001b[38;5;124m\"\u001b[39m, \u001b[38;5;124m\"\u001b[39m\u001b[38;5;124m2023-10-10\u001b[39m\u001b[38;5;124m\"\u001b[39m, \u001b[38;5;124m\"\u001b[39m\u001b[38;5;124mLHR\u001b[39m\u001b[38;5;124m\"\u001b[39m, \u001b[38;5;124m\"\u001b[39m\u001b[38;5;124m2023-11-01\u001b[39m\u001b[38;5;124m\"\u001b[39m, \u001b[38;5;124m\"\u001b[39m\u001b[38;5;124mJFK\u001b[39m\u001b[38;5;124m\"\u001b[39m)\n\u001b[1;32m      2\u001b[0m result\u001b[38;5;241m.\u001b[39mtype \u001b[38;5;66;03m# perfect-chain\u001b[39;00m\n\u001b[0;32m----> 3\u001b[0m \u001b[43mScrapeObjects\u001b[49m\u001b[43m(\u001b[49m\u001b[43mresult\u001b[49m\u001b[43m)\u001b[49m\n\u001b[1;32m      4\u001b[0m result\u001b[38;5;241m.\u001b[39mdata \u001b[38;5;66;03m# see data\u001b[39;00m\n",
      "File \u001b[0;32m~/anaconda3/envs/envTktSecretary/lib/python3.12/site-packages/google_flight_analysis/scrape.py:39\u001b[0m, in \u001b[0;36mScrapeObjects\u001b[0;34m(objs, deep_copy)\u001b[0m\n\u001b[1;32m     36\u001b[0m driver\u001b[38;5;241m.\u001b[39mmaximize_window()\n\u001b[1;32m     38\u001b[0m \u001b[38;5;66;03m# modifies the objects in-place\u001b[39;00m\n\u001b[0;32m---> 39\u001b[0m debug \u001b[38;5;241m=\u001b[39m [\u001b[43mobj\u001b[49m\u001b[38;5;241;43m.\u001b[39;49m\u001b[43m_scrape_data\u001b[49m\u001b[43m(\u001b[49m\u001b[43mdriver\u001b[49m\u001b[43m)\u001b[49m \u001b[38;5;28;01mfor\u001b[39;00m obj \u001b[38;5;129;01min\u001b[39;00m tqdm(objs, desc\u001b[38;5;241m=\u001b[39m\u001b[38;5;124m\"\u001b[39m\u001b[38;5;124mScraping Objects\u001b[39m\u001b[38;5;124m\"\u001b[39m)]\n\u001b[1;32m     41\u001b[0m driver\u001b[38;5;241m.\u001b[39mquit()\n\u001b[1;32m     43\u001b[0m \u001b[38;5;28;01mif\u001b[39;00m deep_copy:\n",
      "File \u001b[0;32m~/anaconda3/envs/envTktSecretary/lib/python3.12/site-packages/google_flight_analysis/scrape.py:377\u001b[0m, in \u001b[0;36m_Scrape._scrape_data\u001b[0;34m(self, driver)\u001b[0m\n\u001b[1;32m    376\u001b[0m \u001b[38;5;28;01mdef\u001b[39;00m \u001b[38;5;21m_scrape_data\u001b[39m(\u001b[38;5;28mself\u001b[39m, driver):\n\u001b[0;32m--> 377\u001b[0m \tresults \u001b[38;5;241m=\u001b[39m [\u001b[38;5;28;43mself\u001b[39;49m\u001b[38;5;241;43m.\u001b[39;49m\u001b[43m_get_results\u001b[49m\u001b[43m(\u001b[49m\u001b[43murl\u001b[49m\u001b[43m,\u001b[49m\u001b[43m \u001b[49m\u001b[38;5;28;43mself\u001b[39;49m\u001b[38;5;241;43m.\u001b[39;49m\u001b[43m_date\u001b[49m\u001b[43m[\u001b[49m\u001b[43mi\u001b[49m\u001b[43m]\u001b[49m\u001b[43m,\u001b[49m\u001b[43m \u001b[49m\u001b[43mdriver\u001b[49m\u001b[43m)\u001b[49m \u001b[38;5;28;01mfor\u001b[39;00m i, url \u001b[38;5;129;01min\u001b[39;00m \u001b[38;5;28menumerate\u001b[39m(\u001b[38;5;28mself\u001b[39m\u001b[38;5;241m.\u001b[39m_url)]\n\u001b[1;32m    378\u001b[0m \t\u001b[38;5;28mself\u001b[39m\u001b[38;5;241m.\u001b[39m_data \u001b[38;5;241m=\u001b[39m pd\u001b[38;5;241m.\u001b[39mconcat(results, ignore_index \u001b[38;5;241m=\u001b[39m \u001b[38;5;28;01mTrue\u001b[39;00m)\n",
      "File \u001b[0;32m~/anaconda3/envs/envTktSecretary/lib/python3.12/site-packages/google_flight_analysis/scrape.py:397\u001b[0m, in \u001b[0;36m_Scrape._get_results\u001b[0;34m(url, date, driver)\u001b[0m\n\u001b[1;32m    395\u001b[0m results \u001b[38;5;241m=\u001b[39m \u001b[38;5;28;01mNone\u001b[39;00m\n\u001b[1;32m    396\u001b[0m \u001b[38;5;28;01mtry\u001b[39;00m:\n\u001b[0;32m--> 397\u001b[0m \tresults \u001b[38;5;241m=\u001b[39m \u001b[43m_Scrape\u001b[49m\u001b[38;5;241;43m.\u001b[39;49m\u001b[43m_make_url_request\u001b[49m\u001b[43m(\u001b[49m\u001b[43murl\u001b[49m\u001b[43m,\u001b[49m\u001b[43m \u001b[49m\u001b[43mdriver\u001b[49m\u001b[43m)\u001b[49m\n\u001b[1;32m    398\u001b[0m \u001b[38;5;28;01mexcept\u001b[39;00m TimeoutException:\n\u001b[1;32m    399\u001b[0m \t\u001b[38;5;28mprint\u001b[39m(\n\u001b[1;32m    400\u001b[0m \u001b[38;5;250m\t\t\u001b[39m\u001b[38;5;124;03m'''TimeoutException, try again and check your internet connection!\\n\u001b[39;00m\n\u001b[1;32m    401\u001b[0m \u001b[38;5;124;03m\t\tAlso possible that no flights exist for your query :('''\u001b[39;00m\u001b[38;5;241m.\u001b[39mreplace(\u001b[38;5;124m'\u001b[39m\u001b[38;5;130;01m\\t\u001b[39;00m\u001b[38;5;124m'\u001b[39m,\u001b[38;5;124m'\u001b[39m\u001b[38;5;124m'\u001b[39m)\n\u001b[1;32m    402\u001b[0m \t)\n",
      "File \u001b[0;32m~/anaconda3/envs/envTktSecretary/lib/python3.12/site-packages/google_flight_analysis/scrape.py:433\u001b[0m, in \u001b[0;36m_Scrape._make_url_request\u001b[0;34m(url, driver)\u001b[0m\n\u001b[1;32m    430\u001b[0m driver\u001b[38;5;241m.\u001b[39mget(url)\n\u001b[1;32m    432\u001b[0m \u001b[38;5;66;03m# Waiting and initial XPATH cleaning\u001b[39;00m\n\u001b[0;32m--> 433\u001b[0m \u001b[43mWebDriverWait\u001b[49m\u001b[43m(\u001b[49m\u001b[43mdriver\u001b[49m\u001b[43m,\u001b[49m\u001b[43m \u001b[49m\u001b[43mtimeout\u001b[49m\u001b[43m \u001b[49m\u001b[38;5;241;43m=\u001b[39;49m\u001b[43m \u001b[49m\u001b[38;5;241;43m10\u001b[39;49m\u001b[43m)\u001b[49m\u001b[38;5;241;43m.\u001b[39;49m\u001b[43muntil\u001b[49m\u001b[43m(\u001b[49m\u001b[38;5;28;43;01mlambda\u001b[39;49;00m\u001b[43m \u001b[49m\u001b[43md\u001b[49m\u001b[43m:\u001b[49m\u001b[43m \u001b[49m\u001b[38;5;28;43mlen\u001b[39;49m\u001b[43m(\u001b[49m\u001b[43m_Scrape\u001b[49m\u001b[38;5;241;43m.\u001b[39;49m\u001b[43m_get_flight_elements\u001b[49m\u001b[43m(\u001b[49m\u001b[43md\u001b[49m\u001b[43m)\u001b[49m\u001b[43m)\u001b[49m\u001b[43m \u001b[49m\u001b[38;5;241;43m>\u001b[39;49m\u001b[43m \u001b[49m\u001b[38;5;241;43m100\u001b[39;49m\u001b[43m)\u001b[49m\n\u001b[1;32m    434\u001b[0m results \u001b[38;5;241m=\u001b[39m _Scrape\u001b[38;5;241m.\u001b[39m_get_flight_elements(driver)\n\u001b[1;32m    436\u001b[0m \u001b[38;5;66;03m#driver.quit()\u001b[39;00m\n",
      "File \u001b[0;32m~/anaconda3/envs/envTktSecretary/lib/python3.12/site-packages/selenium/webdriver/support/wait.py:96\u001b[0m, in \u001b[0;36mWebDriverWait.until\u001b[0;34m(self, method, message)\u001b[0m\n\u001b[1;32m     94\u001b[0m \u001b[38;5;28;01mwhile\u001b[39;00m \u001b[38;5;28;01mTrue\u001b[39;00m:\n\u001b[1;32m     95\u001b[0m     \u001b[38;5;28;01mtry\u001b[39;00m:\n\u001b[0;32m---> 96\u001b[0m         value \u001b[38;5;241m=\u001b[39m \u001b[43mmethod\u001b[49m\u001b[43m(\u001b[49m\u001b[38;5;28;43mself\u001b[39;49m\u001b[38;5;241;43m.\u001b[39;49m\u001b[43m_driver\u001b[49m\u001b[43m)\u001b[49m\n\u001b[1;32m     97\u001b[0m         \u001b[38;5;28;01mif\u001b[39;00m value:\n\u001b[1;32m     98\u001b[0m             \u001b[38;5;28;01mreturn\u001b[39;00m value\n",
      "File \u001b[0;32m~/anaconda3/envs/envTktSecretary/lib/python3.12/site-packages/google_flight_analysis/scrape.py:433\u001b[0m, in \u001b[0;36m_Scrape._make_url_request.<locals>.<lambda>\u001b[0;34m(d)\u001b[0m\n\u001b[1;32m    430\u001b[0m driver\u001b[38;5;241m.\u001b[39mget(url)\n\u001b[1;32m    432\u001b[0m \u001b[38;5;66;03m# Waiting and initial XPATH cleaning\u001b[39;00m\n\u001b[0;32m--> 433\u001b[0m WebDriverWait(driver, timeout \u001b[38;5;241m=\u001b[39m \u001b[38;5;241m10\u001b[39m)\u001b[38;5;241m.\u001b[39muntil(\u001b[38;5;28;01mlambda\u001b[39;00m d: \u001b[38;5;28mlen\u001b[39m(\u001b[43m_Scrape\u001b[49m\u001b[38;5;241;43m.\u001b[39;49m\u001b[43m_get_flight_elements\u001b[49m\u001b[43m(\u001b[49m\u001b[43md\u001b[49m\u001b[43m)\u001b[49m) \u001b[38;5;241m>\u001b[39m \u001b[38;5;241m100\u001b[39m)\n\u001b[1;32m    434\u001b[0m results \u001b[38;5;241m=\u001b[39m _Scrape\u001b[38;5;241m.\u001b[39m_get_flight_elements(driver)\n\u001b[1;32m    436\u001b[0m \u001b[38;5;66;03m#driver.quit()\u001b[39;00m\n",
      "File \u001b[0;32m~/anaconda3/envs/envTktSecretary/lib/python3.12/site-packages/google_flight_analysis/scrape.py:442\u001b[0m, in \u001b[0;36m_Scrape._get_flight_elements\u001b[0;34m(driver)\u001b[0m\n\u001b[1;32m    440\u001b[0m \u001b[38;5;129m@staticmethod\u001b[39m\n\u001b[1;32m    441\u001b[0m \u001b[38;5;28;01mdef\u001b[39;00m \u001b[38;5;21m_get_flight_elements\u001b[39m(driver):\n\u001b[0;32m--> 442\u001b[0m \t\u001b[38;5;28;01mreturn\u001b[39;00m \u001b[43mdriver\u001b[49m\u001b[38;5;241;43m.\u001b[39;49m\u001b[43mfind_element\u001b[49m\u001b[43m(\u001b[49m\u001b[43mby\u001b[49m\u001b[43m \u001b[49m\u001b[38;5;241;43m=\u001b[39;49m\u001b[43m \u001b[49m\u001b[43mBy\u001b[49m\u001b[38;5;241;43m.\u001b[39;49m\u001b[43mXPATH\u001b[49m\u001b[43m,\u001b[49m\u001b[43m \u001b[49m\u001b[43mvalue\u001b[49m\u001b[43m \u001b[49m\u001b[38;5;241;43m=\u001b[39;49m\u001b[43m \u001b[49m\u001b[38;5;124;43m'\u001b[39;49m\u001b[38;5;124;43m//body[@id = \u001b[39;49m\u001b[38;5;124;43m\"\u001b[39;49m\u001b[38;5;124;43myDmH0d\u001b[39;49m\u001b[38;5;124;43m\"\u001b[39;49m\u001b[38;5;124;43m]\u001b[39;49m\u001b[38;5;124;43m'\u001b[39;49m\u001b[43m)\u001b[49m\u001b[38;5;241m.\u001b[39mtext\u001b[38;5;241m.\u001b[39msplit(\u001b[38;5;124m'\u001b[39m\u001b[38;5;130;01m\\n\u001b[39;00m\u001b[38;5;124m'\u001b[39m)\n",
      "File \u001b[0;32m~/anaconda3/envs/envTktSecretary/lib/python3.12/site-packages/selenium/webdriver/remote/webdriver.py:741\u001b[0m, in \u001b[0;36mWebDriver.find_element\u001b[0;34m(self, by, value)\u001b[0m\n\u001b[1;32m    738\u001b[0m     by \u001b[38;5;241m=\u001b[39m By\u001b[38;5;241m.\u001b[39mCSS_SELECTOR\n\u001b[1;32m    739\u001b[0m     value \u001b[38;5;241m=\u001b[39m \u001b[38;5;124mf\u001b[39m\u001b[38;5;124m'\u001b[39m\u001b[38;5;124m[name=\u001b[39m\u001b[38;5;124m\"\u001b[39m\u001b[38;5;132;01m{\u001b[39;00mvalue\u001b[38;5;132;01m}\u001b[39;00m\u001b[38;5;124m\"\u001b[39m\u001b[38;5;124m]\u001b[39m\u001b[38;5;124m'\u001b[39m\n\u001b[0;32m--> 741\u001b[0m \u001b[38;5;28;01mreturn\u001b[39;00m \u001b[38;5;28;43mself\u001b[39;49m\u001b[38;5;241;43m.\u001b[39;49m\u001b[43mexecute\u001b[49m\u001b[43m(\u001b[49m\u001b[43mCommand\u001b[49m\u001b[38;5;241;43m.\u001b[39;49m\u001b[43mFIND_ELEMENT\u001b[49m\u001b[43m,\u001b[49m\u001b[43m \u001b[49m\u001b[43m{\u001b[49m\u001b[38;5;124;43m\"\u001b[39;49m\u001b[38;5;124;43musing\u001b[39;49m\u001b[38;5;124;43m\"\u001b[39;49m\u001b[43m:\u001b[49m\u001b[43m \u001b[49m\u001b[43mby\u001b[49m\u001b[43m,\u001b[49m\u001b[43m \u001b[49m\u001b[38;5;124;43m\"\u001b[39;49m\u001b[38;5;124;43mvalue\u001b[39;49m\u001b[38;5;124;43m\"\u001b[39;49m\u001b[43m:\u001b[49m\u001b[43m \u001b[49m\u001b[43mvalue\u001b[49m\u001b[43m}\u001b[49m\u001b[43m)\u001b[49m[\u001b[38;5;124m\"\u001b[39m\u001b[38;5;124mvalue\u001b[39m\u001b[38;5;124m\"\u001b[39m]\n",
      "File \u001b[0;32m~/anaconda3/envs/envTktSecretary/lib/python3.12/site-packages/selenium/webdriver/remote/webdriver.py:347\u001b[0m, in \u001b[0;36mWebDriver.execute\u001b[0;34m(self, driver_command, params)\u001b[0m\n\u001b[1;32m    345\u001b[0m response \u001b[38;5;241m=\u001b[39m \u001b[38;5;28mself\u001b[39m\u001b[38;5;241m.\u001b[39mcommand_executor\u001b[38;5;241m.\u001b[39mexecute(driver_command, params)\n\u001b[1;32m    346\u001b[0m \u001b[38;5;28;01mif\u001b[39;00m response:\n\u001b[0;32m--> 347\u001b[0m     \u001b[38;5;28;43mself\u001b[39;49m\u001b[38;5;241;43m.\u001b[39;49m\u001b[43merror_handler\u001b[49m\u001b[38;5;241;43m.\u001b[39;49m\u001b[43mcheck_response\u001b[49m\u001b[43m(\u001b[49m\u001b[43mresponse\u001b[49m\u001b[43m)\u001b[49m\n\u001b[1;32m    348\u001b[0m     response[\u001b[38;5;124m\"\u001b[39m\u001b[38;5;124mvalue\u001b[39m\u001b[38;5;124m\"\u001b[39m] \u001b[38;5;241m=\u001b[39m \u001b[38;5;28mself\u001b[39m\u001b[38;5;241m.\u001b[39m_unwrap_value(response\u001b[38;5;241m.\u001b[39mget(\u001b[38;5;124m\"\u001b[39m\u001b[38;5;124mvalue\u001b[39m\u001b[38;5;124m\"\u001b[39m, \u001b[38;5;28;01mNone\u001b[39;00m))\n\u001b[1;32m    349\u001b[0m     \u001b[38;5;28;01mreturn\u001b[39;00m response\n",
      "File \u001b[0;32m~/anaconda3/envs/envTktSecretary/lib/python3.12/site-packages/selenium/webdriver/remote/errorhandler.py:229\u001b[0m, in \u001b[0;36mErrorHandler.check_response\u001b[0;34m(self, response)\u001b[0m\n\u001b[1;32m    227\u001b[0m         alert_text \u001b[38;5;241m=\u001b[39m value[\u001b[38;5;124m\"\u001b[39m\u001b[38;5;124malert\u001b[39m\u001b[38;5;124m\"\u001b[39m]\u001b[38;5;241m.\u001b[39mget(\u001b[38;5;124m\"\u001b[39m\u001b[38;5;124mtext\u001b[39m\u001b[38;5;124m\"\u001b[39m)\n\u001b[1;32m    228\u001b[0m     \u001b[38;5;28;01mraise\u001b[39;00m exception_class(message, screen, stacktrace, alert_text)  \u001b[38;5;66;03m# type: ignore[call-arg]  # mypy is not smart enough here\u001b[39;00m\n\u001b[0;32m--> 229\u001b[0m \u001b[38;5;28;01mraise\u001b[39;00m exception_class(message, screen, stacktrace)\n",
      "\u001b[0;31mNoSuchWindowException\u001b[0m: Message: no such window: target window already closed\nfrom unknown error: web view not found\n  (Session info: chrome=123.0.6312.107)\nStacktrace:\n0   chromedriver                        0x0000000102b70474 chromedriver + 4326516\n1   chromedriver                        0x0000000102b6893c chromedriver + 4294972\n2   chromedriver                        0x0000000102794088 chromedriver + 278664\n3   chromedriver                        0x000000010276f270 chromedriver + 127600\n4   chromedriver                        0x00000001027fb9ac chromedriver + 702892\n5   chromedriver                        0x000000010280ec0c chromedriver + 781324\n6   chromedriver                        0x00000001027cb4e4 chromedriver + 505060\n7   chromedriver                        0x00000001027cbf5c chromedriver + 507740\n8   chromedriver                        0x0000000102b33a10 chromedriver + 4078096\n9   chromedriver                        0x0000000102b387c8 chromedriver + 4097992\n10  chromedriver                        0x0000000102b1a5b4 chromedriver + 3974580\n11  chromedriver                        0x0000000102b390e0 chromedriver + 4100320\n12  chromedriver                        0x0000000102b0bba4 chromedriver + 3914660\n13  chromedriver                        0x0000000102b596e8 chromedriver + 4232936\n14  chromedriver                        0x0000000102b59864 chromedriver + 4233316\n15  chromedriver                        0x0000000102b685b0 chromedriver + 4294064\n16  libsystem_pthread.dylib             0x00000001935eef94 _pthread_start + 136\n17  libsystem_pthread.dylib             0x00000001935e9d34 thread_start + 8\n"
     ]
    }
   ],
   "source": [
    "result = Scrape(\"JFK\", \"2023-09-20\", \"IST\", \"2023-09-25\", \"CDG\", \"2023-10-10\", \"LHR\", \"2023-11-01\", \"JFK\")\n",
    "result.type # perfect-chain\n",
    "ScrapeObjects(result)\n",
    "result.data # see data"
   ]
  },
  {
   "cell_type": "markdown",
   "metadata": {},
   "source": []
  },
  {
   "cell_type": "code",
   "execution_count": null,
   "metadata": {},
   "outputs": [],
   "source": []
  }
 ],
 "metadata": {
  "kernelspec": {
   "display_name": "envTktSecretary",
   "language": "python",
   "name": "python3"
  },
  "language_info": {
   "codemirror_mode": {
    "name": "ipython",
    "version": 3
   },
   "file_extension": ".py",
   "mimetype": "text/x-python",
   "name": "python",
   "nbconvert_exporter": "python",
   "pygments_lexer": "ipython3",
   "version": "3.12.2"
  }
 },
 "nbformat": 4,
 "nbformat_minor": 2
}
